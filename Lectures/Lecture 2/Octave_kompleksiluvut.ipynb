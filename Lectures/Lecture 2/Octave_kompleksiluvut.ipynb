{
 "cells": [
  {
   "cell_type": "markdown",
   "metadata": {},
   "source": [
    "Kompleksiluvun määrittely"
   ]
  },
  {
   "cell_type": "code",
   "execution_count": 23,
   "metadata": {},
   "outputs": [
    {
     "name": "stdout",
     "output_type": "stream",
     "text": [
      " 3 + 2i\n",
      " 4 + 1i\n"
     ]
    }
   ],
   "source": [
    "z=3+2i; %reaaliosa + imaginaariosa, i on imaginaariyksikkö\n",
    "z2=4+1i; %Jos imaginaariosa on 1 tai -1, kannattaa kirjoittaa luku i:n eteen. Tällä vältetään sekaannus i-indeksin kanssa.\n",
    "\n",
    "disp(z)\n",
    "disp(z2)"
   ]
  },
  {
   "cell_type": "markdown",
   "metadata": {},
   "source": [
    "Reaali- ja imaginaariosan erottaminen kompleksiluvuista"
   ]
  },
  {
   "cell_type": "code",
   "execution_count": 24,
   "metadata": {},
   "outputs": [
    {
     "name": "stdout",
     "output_type": "stream",
     "text": [
      "reaaliosat =\n",
      "\n",
      "   2   4\n",
      "   1   5\n",
      "\n",
      "imag_osat =\n",
      "\n",
      "   4  -6\n",
      "   1   5\n",
      "\n"
     ]
    }
   ],
   "source": [
    "komp_taulu=[2+4i, 4-6i; 1+1i, 5+5i];\n",
    "reaaliosat=real(komp_taulu) %Irrotetaan reaaliosat\n",
    "\n",
    "imag_osat=imag(komp_taulu) %Irrotetaan reaaliosat"
   ]
  },
  {
   "cell_type": "markdown",
   "metadata": {},
   "source": [
    "Kompleksikonjugaatin muodostaminen "
   ]
  },
  {
   "cell_type": "code",
   "execution_count": 25,
   "metadata": {},
   "outputs": [
    {
     "name": "stdout",
     "output_type": "stream",
     "text": [
      "z_konj =  3 - 5i\n"
     ]
    }
   ],
   "source": [
    "z=3+5i;\n",
    "z_konj=conj(z)\n"
   ]
  },
  {
   "cell_type": "markdown",
   "metadata": {},
   "source": [
    "Kompleksilukujen summa, erotus, tulo ja osamäärä"
   ]
  },
  {
   "cell_type": "code",
   "execution_count": 26,
   "metadata": {},
   "outputs": [
    {
     "name": "stdout",
     "output_type": "stream",
     "text": [
      "summa =  7 + 1i\n",
      "erotus = -3 + 5i\n",
      "tulo =  16 + 11i\n",
      "osamaara =  0.13793 + 0.65517i\n"
     ]
    }
   ],
   "source": [
    "z1=2+3i;\n",
    "z2=5-2i;\n",
    "\n",
    "summa=z1+z2\n",
    "erotus=z1-z2\n",
    "tulo=z1*z2\n",
    "osamaara=z1/z2"
   ]
  },
  {
   "cell_type": "markdown",
   "metadata": {},
   "source": [
    "Kompleksiluvun itseisarvon ja vaihekulman laskeminen"
   ]
  },
  {
   "cell_type": "code",
   "execution_count": 27,
   "metadata": {},
   "outputs": [
    {
     "name": "stdout",
     "output_type": "stream",
     "text": [
      "Itseisarvo =  5.6569\n",
      "vaihekulma1 = -2.3562\n",
      "vaihekulma2 = -2.3562\n"
     ]
    }
   ],
   "source": [
    "z=-4-4i;\n",
    "\n",
    "Itseisarvo=abs(z)\n",
    "\n",
    "vaihekulma1=arg(z) %Tapa 1, vaihekulma radiaaneina\n",
    "vaihekulma2=angle(z) %tapa 2, vaihekulma radiaaneina"
   ]
  },
  {
   "cell_type": "markdown",
   "metadata": {},
   "source": [
    "Osoitinmuotoisen kompleksiluvun käsittely"
   ]
  },
  {
   "cell_type": "code",
   "execution_count": 28,
   "metadata": {},
   "outputs": [
    {
     "name": "stdout",
     "output_type": "stream",
     "text": [
      "z1 = -0.0052036 - 0.9999865i\n",
      "z2 = -2.1760 + 3.3563i\n",
      "z3 =  0.70711 + 0.70711i\n"
     ]
    }
   ],
   "source": [
    "z1=exp(-1.576i) %exp() vastaa operaatiota e potenssiin jotakin\n",
    "z2=4*exp(2.146i)\n",
    "z3=exp(pi*1i/4)"
   ]
  },
  {
   "cell_type": "markdown",
   "metadata": {},
   "source": [
    "Kompleksisen eksponentiaalifunktion käsittely (Tarvitaan mm. ohjelmointiharjoituksessa)"
   ]
  },
  {
   "cell_type": "code",
   "execution_count": 29,
   "metadata": {},
   "outputs": [
    {
     "name": "stdout",
     "output_type": "stream",
     "text": [
      " Columns 1 through 3:\n",
      "\n",
      "   2.00000 - 0.00000i   1.90211 - 0.61803i   1.61803 - 1.17557i\n",
      "\n",
      " Columns 4 and 5:\n",
      "\n",
      "   1.17557 - 1.61803i   0.61803 - 1.90211i\n"
     ]
    },
    {
     "data": {
      "image/png": "[encoded data removed]",
      "text/plain": [
       "<IPython.core.display.Image object>"
      ]
     },
     "metadata": {},
     "output_type": "display_data"
    }
   ],
   "source": [
    "t=0:0.05:5; %Luodaan aikavektori\n",
    "komp_signal=2*exp(-2*pi*1*t*1i); %lasketaan kompleksisen eksponentiaalifuntion arvot t-verktorin avulla\n",
    "disp (komp_signal(1:5)) %tulostetaan 5 ensimmäistä arvoa \n",
    "\n",
    "reaaliosat=real(komp_signal); %Irrotetaan reaali- ja imaginaariosat omiin taulukoihin (vektoreihin)\n",
    "imagosat=imag(komp_signal);\n",
    "\n",
    "plot3(t,reaaliosat,imagosat,'-r*') %Esitetään signaali 3D-muodossa: x-akselilla aika, y-aselilla reaaliosa, z-akselilla imaginaariosa\n",
    "grid on\n",
    "xlabel(\"Aika\")\n",
    "ylabel(\"Reaaliosa\")\n",
    "zlabel(\"Imaginaariosa\")\n"
   ]
  },
  {
   "cell_type": "code",
   "execution_count": null,
   "metadata": {},
   "outputs": [],
   "source": []
  }
 ],
 "metadata": {
  "kernelspec": {
   "display_name": "Octave",
   "language": "octave",
   "name": "octave"
  },
  "language_info": {
   "file_extension": ".m",
   "help_links": [
    {
     "text": "GNU Octave",
     "url": "https://www.gnu.org/software/octave/support.html"
    },
    {
     "text": "Octave Kernel",
     "url": "https://github.com/Calysto/octave_kernel"
    },
    {
     "text": "MetaKernel Magics",
     "url": "https://metakernel.readthedocs.io/en/latest/source/README.html"
    }
   ],
   "mimetype": "text/x-octave",
   "name": "octave",
   "version": "4.2.2"
  }
 },
 "nbformat": 4,
 "nbformat_minor": 4
}
