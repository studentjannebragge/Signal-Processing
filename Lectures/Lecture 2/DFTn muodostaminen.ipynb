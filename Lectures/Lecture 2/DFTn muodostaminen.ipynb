{
 "cells": [
  {
   "cell_type": "markdown",
   "metadata": {},
   "source": [
    "Tässä Notebookissaa käydään läpi muutamia periaatteita ja funktioita, joita tarvitset sekä DFT:n että signaalin spektrin muodostamisessa.\n",
    "Osa hyödyllisistä funktioista on käyty läpi Octaven perustoimintojen tai kompleksilukujen yhteydessä, eikä niitä enää käsitellä tässä Notebookissa perusteellisesti. "
   ]
  },
  {
   "cell_type": "markdown",
   "metadata": {},
   "source": [
    "DFT:n muodostaminen fft-funktiolla ja reaali-/imaginaariosin käsittely"
   ]
  },
  {
   "cell_type": "code",
   "execution_count": 13,
   "metadata": {},
   "outputs": [
    {
     "name": "stdout",
     "output_type": "stream",
     "text": [
      "x_DFT =\n",
      "\n",
      " Columns 1 through 3:\n",
      "\n",
      "    3.00000 +  0.00000i   -6.73221 -  9.30128i    7.83393 -  8.93678i\n",
      "\n",
      " Columns 4 through 6:\n",
      "\n",
      "    0.89828 - 15.59231i    0.89828 + 15.59231i    7.83393 +  8.93678i\n",
      "\n",
      " Column 7:\n",
      "\n",
      "   -6.73221 +  9.30128i\n",
      "\n",
      "x_DFT_real =\n",
      "\n",
      "   3.00000  -6.73221   7.83393   0.89828   0.89828   7.83393  -6.73221\n",
      "\n",
      "x_DFT_imag =\n",
      "\n",
      "    0.00000   -9.30128   -8.93678  -15.59231   15.59231    8.93678    9.30128\n",
      "\n"
     ]
    }
   ],
   "source": [
    "x=[1,5 -3, 7, 0, 1 -8]; % luodaan signaali\n",
    "x_DFT=fft(x) %muodostetaan DFT\n",
    "x_DFT_real=real(x_DFT) %irrotetaan reaaliosat\n",
    "x_DFT_imag=imag(x_DFT) %irrotetaan imaginaariosat"
   ]
  },
  {
   "cell_type": "markdown",
   "metadata": {},
   "source": [
    "Taulukon muodostaminen ja alkioiden summaaminen (Toimii myös kompleksiluvuille)"
   ]
  },
  {
   "cell_type": "code",
   "execution_count": 14,
   "metadata": {},
   "outputs": [
    {
     "name": "stdout",
     "output_type": "stream",
     "text": [
      "   1   2   3\n",
      "   2   4   6\n",
      "   3   6   9\n",
      "rivisumma =\n",
      "\n",
      "    6\n",
      "   12\n",
      "   18\n",
      "\n",
      "sarakesumma =\n",
      "\n",
      "    6   12   18\n",
      "\n"
     ]
    }
   ],
   "source": [
    "rivit=3; %rivien määrä\n",
    "sarakkeet=3; %sarakkeiden määrä\n",
    "taulu=zeros(rivit,sarakkeet); %Luodaan nollataulukko\n",
    "\n",
    "for r = 1:rivit\n",
    "    for s = 1:sarakkeet\n",
    "\n",
    "    taulu(r,s)=r*s; %Muodostetaan taulukko kertomalla keskenään rivin ja sarakkeen indeksi\n",
    "    end\n",
    "end\n",
    "\n",
    "disp(taulu)\n",
    "\n",
    "rivisumma=sum(taulu,2) %sumataa rivien alkiot keskenään\n",
    "sarakesumma=sum(taulu,1) %Summataan sarakkeiden alkiot keskenään\n",
    "    "
   ]
  },
  {
   "cell_type": "markdown",
   "metadata": {},
   "source": [
    "Alkioiden summaaminen silmukassa"
   ]
  },
  {
   "cell_type": "code",
   "execution_count": 15,
   "metadata": {},
   "outputs": [
    {
     "name": "stdout",
     "output_type": "stream",
     "text": [
      "    6\n",
      "   12\n",
      "   18\n"
     ]
    }
   ],
   "source": [
    "rivit=3; %rivien määrä\n",
    "sarakkeet=3; %sarakkeiden määrä\n",
    "summa=zeros(rivit,1); %Luodaan nollataulukko\n",
    "\n",
    "for r = 1:rivit\n",
    "    for s = 1:sarakkeet\n",
    "    summa(r,1)=summa(r,1)+r*s; %summataan alkiot keskenään kumulatiivisesti. Summaukseen otetaan mukaan edellinen arvo.\n",
    "    end\n",
    "end\n",
    "\n",
    "disp(summa)"
   ]
  }
 ],
 "metadata": {
  "kernelspec": {
   "display_name": "Octave",
   "language": "octave",
   "name": "octave"
  },
  "language_info": {
   "file_extension": ".m",
   "help_links": [
    {
     "text": "GNU Octave",
     "url": "https://www.gnu.org/software/octave/support.html"
    },
    {
     "text": "Octave Kernel",
     "url": "https://github.com/Calysto/octave_kernel"
    },
    {
     "text": "MetaKernel Magics",
     "url": "https://metakernel.readthedocs.io/en/latest/source/README.html"
    }
   ],
   "mimetype": "text/x-octave",
   "name": "octave",
   "version": "4.2.2"
  }
 },
 "nbformat": 4,
 "nbformat_minor": 4
}
